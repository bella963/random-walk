{
 "cells": [
  {
   "cell_type": "markdown",
   "id": "85cccd24",
   "metadata": {},
   "source": [
    "# random walk\n",
    "### An ant forage for food in north, south, east and west randomly\n",
    "\n",
    "An ant walks at speed of 10cm/second to find food in one of the four directions randomly. \n",
    "\n",
    "1. The food is located at the center of (20cm, 0), (0, 20cm), (-20cm, 0), (0, -20cm);\n",
    "2. The ant is located at a diagonal line connectingg (10cm, 0) and (0, 10cm);\n",
    "3. The food is located outside $((x-2.5cm)/30cm)^2 + ((y-2.5cm)/40cm)^2 < 1$ and the ant is at the center (0,0)."
   ]
  },
  {
   "cell_type": "code",
   "execution_count": 5,
   "id": "bffa227a",
   "metadata": {},
   "outputs": [],
   "source": [
    "import numpy as np\n",
    "import pandas as pd\n",
    "import matplotlib.pyplot as plt"
   ]
  },
  {
   "cell_type": "code",
   "execution_count": 194,
   "id": "9f976392",
   "metadata": {},
   "outputs": [],
   "source": [
    "# create a class of random walk for ant\n",
    "class random_walk:\n",
    "    \n",
    "    def __init__(self,x_begin = 0.0, y_begin = 0.0, speed = 10, t = 1, size = 100):\n",
    "        self.x_begin = x_begin  # x beginnig location\n",
    "        self.y_begin = y_begin  # y beginning location\n",
    "        self.speed = speed      # walking speed = 10cm / second\n",
    "        self.t = t              # time second\n",
    "        self.size = size        # randomly set tryout times for an ant\n",
    "        self.time = self.timestamps()  # record time in seconds\n",
    "        self.xy = self.random_walk_points() # initialize walking position points\n",
    "    \n",
    "    def random_walk_points(self):\n",
    "        xy = np.zeros((self.size,2))  # 1 ant with 4 directions(adding more subjects), 2 coordinates\n",
    "        xy[:,0] = self.x_begin\n",
    "        xy[:,1] = self.y_begin\n",
    "        return xy \n",
    "    \n",
    "    def timestamps(self):\n",
    "        time_s = np.zeros(self.size)\n",
    "        return time_s\n",
    "    \n",
    "    #define how ants walk\n",
    "    def walks(self, xy_coor, size):\n",
    "        walk_directions = np.random.randint(low = 0, high = 3, size = size) # 4 directions\n",
    "        # walking to north\n",
    "        N = np.where(walk_directions == 0)[0]\n",
    "        xy_coor[N,1] += self.speed * self.t\n",
    "        # walking to south\n",
    "        S = np.where(walk_directions ==1)[0]\n",
    "        xy_coor[S,1] -= self.speed * self.t\n",
    "        # walking to east\n",
    "        E = np.where(walk_directions ==2)[0]\n",
    "        xy_coor[E,0] += self.speed * self.t\n",
    "        # walking to west\n",
    "        W = np.where(walk_directions ==3)[0]\n",
    "        xy_coor[W,0] -= self.speed * self.t\n",
    "        \n",
    "        return xy_coor\n",
    "    \n",
    "    def moving(self, steps):\n",
    "        for i in range(steps):\n",
    "            self.xy = self.walks(self.xy, size = self.size)\n",
    "            self.time[~np.isnan(self.xy[:,0])] += 1\n",
    "            \n",
    "            at_boundary = self.set_boundary()\n",
    "            \n",
    "            self.xy[at_boundary,:] = np.nan\n",
    "            \n",
    "        return self.xy, self.time\n",
    "            \n",
    "    \n",
    "    \n",
    "    def set_boundary(self):\n",
    "        #boundary = (np.abs(self.xy[:, 0]) >= 20) | (np.abs(self.xy[:, 1]) >= 20)\n",
    "        #boundary = np.nansum(self.xy, axis=1) == 10\n",
    "        boundary = (np.square((self.xy[:,0] - 2.5) / 30) + np.square((self.xy[:,1] - 2.5) / 40)) >= 1\n",
    "        return boundary\n",
    "        \n",
    "    \n",
    "    \n",
    "    def mean_time(self, steps = 1000):\n",
    "        self.xy, self.time = self.moving(steps = steps)\n",
    "        \n",
    "        found_food = np.isnan(self.xy[:,0])\n",
    "        \n",
    "        mean_time = self.time[found_food].mean()\n",
    "        \n",
    "        print(\"average time to find food is\", mean_time)\n",
    "        \n",
    "        \n",
    "        \n",
    "    \n",
    "    \n",
    "    \n",
    "        \n",
    "        \n",
    "    \n",
    "    "
   ]
  },
  {
   "cell_type": "code",
   "execution_count": 195,
   "id": "42424aca",
   "metadata": {},
   "outputs": [
    {
     "name": "stdout",
     "output_type": "stream",
     "text": [
      "average time to find food is 8.795\n"
     ]
    }
   ],
   "source": [
    "random_walk(size = 400).mean_time(steps = 1000)\n",
    "#random_walk().moving(steps = 300)"
   ]
  },
  {
   "cell_type": "code",
   "execution_count": null,
   "id": "4e3bdc6e",
   "metadata": {},
   "outputs": [],
   "source": []
  },
  {
   "cell_type": "code",
   "execution_count": null,
   "id": "4f4700f5",
   "metadata": {},
   "outputs": [],
   "source": []
  }
 ],
 "metadata": {
  "kernelspec": {
   "display_name": "Python 3",
   "language": "python",
   "name": "python3"
  },
  "language_info": {
   "codemirror_mode": {
    "name": "ipython",
    "version": 3
   },
   "file_extension": ".py",
   "mimetype": "text/x-python",
   "name": "python",
   "nbconvert_exporter": "python",
   "pygments_lexer": "ipython3",
   "version": "3.8.8"
  }
 },
 "nbformat": 4,
 "nbformat_minor": 5
}
